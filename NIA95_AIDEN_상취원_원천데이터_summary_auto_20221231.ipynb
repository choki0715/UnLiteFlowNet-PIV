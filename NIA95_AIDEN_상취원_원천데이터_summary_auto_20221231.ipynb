{
  "nbformat": 4,
  "nbformat_minor": 0,
  "metadata": {
    "colab": {
      "provenance": [],
      "include_colab_link": true
    },
    "kernelspec": {
      "name": "python3",
      "display_name": "Python 3"
    },
    "language_info": {
      "name": "python"
    }
  },
  "cells": [
    {
      "cell_type": "markdown",
      "metadata": {
        "id": "view-in-github",
        "colab_type": "text"
      },
      "source": [
        "<a href=\"https://colab.research.google.com/github/choki0715/UnLiteFlowNet-PIV/blob/master/NIA95_AIDEN_%EC%83%81%EC%B7%A8%EC%9B%90_%EC%9B%90%EC%B2%9C%EB%8D%B0%EC%9D%B4%ED%84%B0_summary_auto_20221231.ipynb\" target=\"_parent\"><img src=\"https://colab.research.google.com/assets/colab-badge.svg\" alt=\"Open In Colab\"/></a>"
      ]
    },
    {
      "cell_type": "code",
      "execution_count": null,
      "metadata": {
        "id": "RjpAkE8EVOS1"
      },
      "outputs": [],
      "source": [
        "# 필요한 라이브러리 불러오기\n",
        "#import tensorflow as tf\n",
        "import matplotlib as mpl\n",
        "import matplotlib.pyplot as plt\n",
        "import matplotlib.ticker as ticker\n",
        "import matplotlib.font_manager as fm # 그래프 한글 font 로딩.\n",
        "\n",
        "import numpy as np\n",
        "import pandas as pd\n",
        "import glob\n",
        "#from sklearn.model_selection import train_test_split  # <- split 사용 확인 필요.\n",
        "import time\n",
        "from datetime import datetime\n",
        "import unicodedata  #<---------- 유니코드 문자열 정의 모듈. : 필요한지 확인 필요.\n",
        "#import re           #<---------- 정규식처리를 위한 모듈 : 필요한지 확인 필요. \n",
        "import os \n",
        "import io\n",
        "import seaborn as sns\n",
        "import IPython\n",
        "import IPython.display\n",
        "mpl.rcParams['figure.figsize'] = (16,12)\n",
        "mpl.rcParams['axes.grid'] = False\n",
        "\n",
        "# -*- coding: utf-8 -*-"
      ]
    },
    {
      "cell_type": "code",
      "source": [
        "# connect google drive\n",
        "from google.colab import drive\n",
        "drive.mount('/content/drive')"
      ],
      "metadata": {
        "colab": {
          "base_uri": "https://localhost:8080/"
        },
        "id": "-ZFxAwEfV733",
        "outputId": "84da9ef4-2957-4d12-9b73-845bcb68ad93"
      },
      "execution_count": null,
      "outputs": [
        {
          "output_type": "stream",
          "name": "stdout",
          "text": [
            "Drive already mounted at /content/drive; to attempt to forcibly remount, call drive.mount(\"/content/drive\", force_remount=True).\n"
          ]
        }
      ]
    },
    {
      "cell_type": "code",
      "source": [
        "# df_wl = pd.read_csv('/content/drive/MyDrive/NIA 2차 수질예측 프로젝트/NIA_AIDEN_06_(지하수)/관측소1개_샘플(20220914)/국가_수위_241.csv', encoding='cp949')\n",
        "# df_wq = pd.read_csv('/content/drive/MyDrive/NIA 2차 수질예측 프로젝트/NIA_AIDEN_06_(지하수)/관측소1개_샘플(20220914)/국가_수질_241.csv', encoding='cp949')\n",
        "\n",
        "# df_wq_10p = pd.read_csv('/content/drive/MyDrive/NIA 2차 수질예측 프로젝트/NIA_AIDEN_06_(지하수)/1cycle_수집_(10%)/국가_수질_데이터셋.zip (Unzipped Files)/국가_수질_가평가평_2224.csv', encoding='cp949')\n",
        "\n",
        "# df_sfw_namkang = pd.read_csv('/content/drive/MyDrive/NIA_AIDEN_01_(상-취수원)/비전21테크_10%데이터 남강,영천(20220914)/³²°­´ï_2020_110_3689280.csv', header = 1) #, encoding='cp949')\n",
        "in_path = '/content/drive/MyDrive/NIA_AIDEN_07_(지하수)/수위(Total)/1. 수위 데이터셋_(국가, 보조)/2. 수위 데이터셋_보조/'\n",
        "\n",
        "file_list = os.listdir(in_path)\n",
        "\n",
        "print(file_list[0])\n"
      ],
      "metadata": {
        "id": "Hve6RNFX-ZER",
        "colab": {
          "base_uri": "https://localhost:8080/"
        },
        "outputId": "e12aa950-dece-4e34-e3bc-5a29ef7f71b6"
      },
      "execution_count": null,
      "outputs": [
        {
          "output_type": "stream",
          "name": "stdout",
          "text": [
            "보조_10호기_암반_수위_시.csv\n"
          ]
        }
      ]
    },
    {
      "cell_type": "code",
      "source": [
        "\n",
        "features = ['lev','rainfall','wd_temp', 'wl']\n",
        "\n",
        "#work_count = [121, 118, 103, 170, 148, 111, 129, 107, 134, 122]\n",
        "work_count = [82, 78, 86, 91, 83, 89, 93, 85, 81, 87]\n",
        "\n",
        "#work_date = ['01', '02', '03', '04', '05', '06', '07', '08', '09', '10', '11', '12', '13', '14', '15', \n",
        "#             '16', '17', '18', '19', '20', '21', '22', '23', '24', '25', '26', '27', '28', '29', '30']\n",
        "\n",
        "work_date = ['01', '02', '03', '04', '05', '06', '07', '08', '09', '10', '11', '12', '13', '14', '15', '16','17']\n",
        "#work_date = ['15', '16', '17', '18', '19', '20', '21', '22', '23', '24', '25', '26', '27', '28', '29', '30']\n",
        "#work_date = ['20', '31', '30']\n",
        "#work_date = ['02', '02', '02', '06', '15', '15', '12', '15']\n",
        "\n",
        "num_date = len(work_date)\n",
        "\n",
        "### Here saving directory !!!\n",
        "imonth_for_file = '11_'\n",
        "imonth_for_dir = '11_'\n",
        "\n",
        "creation_mon = '_2022' + imonth_for_file\n",
        "file_loc = '/content/drive/MyDrive/NIA_AIDEN_05/11월/' \n",
        "\n",
        "\n",
        "\n",
        "### start task 2000 summary\n",
        "#amount_task = 1150 # 8\n",
        "#amount_task = 1780 # 9\n",
        "#amount_task = 1250 # 10  \n",
        "amount_task = 430  #11\n",
        "\n",
        "try_count = 0\n",
        "ichange = 0\n",
        "cnt = 0\n",
        "total_count = 0\n",
        "init_idx = 194\n",
        "\n",
        "for file_iter in range(init_idx, len(file_list)):\n",
        "  input_file = file_list[file_iter]\n",
        "  data = pd.read_csv(in_path + input_file)\n",
        "  my_data = data[features]\n",
        " \n",
        "  print('FILE:', input_file)\n",
        "\n",
        "  for i in range(len(my_data)//2000):\n",
        "\n",
        "    start_int = i*2000\n",
        "    end_int = (i+1)*2000\n",
        "    start_str = f'{start_int}'\n",
        "    end_str = f'{end_int}'\n",
        "    surfix = start_str + '_' + end_str + '.xlsx'\n",
        "\n",
        "    # create a new directory for print out result\n",
        "    #----------------------------------------------------------\n",
        "    if cnt == 0:\n",
        "      work_point = work_date[np.random.randint(0,num_date)]\n",
        "      file_loc_date = file_loc + imonth_for_dir + work_point \n",
        "\n",
        "      if not os.path.exists(file_loc_date):\n",
        "        creation_date = creation_mon + work_point + '_'\n",
        "        os.makedirs(file_loc_date)\n",
        "      else:\n",
        "        new_dir = True\n",
        "        while (new_dir):\n",
        "          work_point = work_date[np.random.randint(0,num_date)]\n",
        "          file_loc_date = file_loc + imonth_for_dir + work_point\n",
        "          if not os.path.exists(file_loc_date):\n",
        "            creation_date = creation_mon + work_point + '_'\n",
        "            new_dir = False\n",
        "        os.makedirs(file_loc_date)\n",
        "  \n",
        "      print('new directory is created!!!', file_loc_date)\n",
        "    # if cnt == 0 loop ------------------------------------------\n",
        "\n",
        "#    if cnt <= work_count[try_count]:\n",
        "    if cnt <= work_count[try_count]:\n",
        "      my_path = file_loc_date + '/' + input_file + creation_date  + surfix\n",
        "      block2check = my_data.loc[start_int:end_int,]\n",
        "      my_data.describe().to_excel(my_path)\n",
        "      cnt += 1\n",
        "\n",
        "    else:\n",
        "      cnt = 0\n",
        "      total_count += work_count[try_count]\n",
        "      try_count += 1\n",
        "      if(try_count > 9):\n",
        "        try_count = 0\n",
        "\n",
        "  for ftr in (features):\n",
        "    plt.rcParams['figure.figsize'] = (30,10)\n",
        "    fig=my_data[ftr].plot()\n",
        "    fig = fig.get_figure()\n",
        "    fig.savefig(file_loc_date +'/' + input_file + creation_date + '_feature_' + ftr + '.jpg')\n",
        "    plt.show()\n",
        "\n",
        "  if total_count >= amount_task:\n",
        "    print('total amount of task: ', total_count)\n",
        "    print('current file index: ', file_iter)\n",
        "    break\n",
        "\n",
        "my_data.describe().to_excel(file_loc + input_file + creation_date  + 'total_summary.xlsx')\n",
        "\n"
      ],
      "metadata": {
        "id": "ExyxWQBFtkap",
        "colab": {
          "base_uri": "https://localhost:8080/",
          "height": 1000
        },
        "outputId": "f3e058a3-dc75-4cf2-8a07-5441ced6a01b"
      },
      "execution_count": null,
      "outputs": []
    },
    {
      "cell_type": "code",
      "source": [],
      "metadata": {
        "id": "7NOAa29X8f_z"
      },
      "execution_count": null,
      "outputs": []
    },
    {
      "cell_type": "code",
      "source": [
        "from google.colab import drive\n",
        "drive.mount('/content/drive')"
      ],
      "metadata": {
        "colab": {
          "base_uri": "https://localhost:8080/"
        },
        "id": "MWTkeMbRJbIk",
        "outputId": "154d7236-df56-4414-af9e-2a7f41157017"
      },
      "execution_count": null,
      "outputs": [
        {
          "output_type": "stream",
          "name": "stdout",
          "text": [
            "Drive already mounted at /content/drive; to attempt to forcibly remount, call drive.mount(\"/content/drive\", force_remount=True).\n"
          ]
        }
      ]
    },
    {
      "cell_type": "code",
      "source": [],
      "metadata": {
        "id": "S3KW8b4nJkOD"
      },
      "execution_count": null,
      "outputs": []
    }
  ]
}